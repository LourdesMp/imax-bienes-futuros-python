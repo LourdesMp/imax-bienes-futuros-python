{
 "metadata": {
  "language_info": {
   "codemirror_mode": {
    "name": "ipython",
    "version": 3
   },
   "file_extension": ".py",
   "mimetype": "text/x-python",
   "name": "python",
   "nbconvert_exporter": "python",
   "pygments_lexer": "ipython3",
   "version": "3.8.0-final"
  },
  "orig_nbformat": 2,
  "kernelspec": {
   "name": "python38064bit6f94f84dba974a82a13fbd10beb07f1a",
   "display_name": "Python 3.8.0 64-bit"
  }
 },
 "nbformat": 4,
 "nbformat_minor": 2,
 "cells": [
  {
   "cell_type": "code",
   "execution_count": 1,
   "metadata": {},
   "outputs": [],
   "source": [
    "import mysql.connector\n",
    "from mysql.connector import Error\n",
    "import pandas as pd\n",
    "import numpy as np\n",
    "import openpyxl\n",
    "from openpyxl.styles import Font, Color, colors, PatternFill\n",
    "import time, sys\n",
    "import os\n",
    "import glob\n",
    "from copy import copy\n",
    "from datetime import date"
   ]
  },
  {
   "cell_type": "code",
   "execution_count": 3,
   "metadata": {
    "tags": []
   },
   "outputs": [
    {
     "output_type": "stream",
     "name": "stdout",
     "text": "Connected to MySQL Server version  5.7.28-log\nError while connecting to MySQL 1007 (HY000): Can&#39;t create database &#39;proyecto1&#39;; database exists\nFailed to create table in MySQL: &lt;class &#39;mysql.connector.errors.Error&#39;&gt; 1046 (3D000): No database selected\nMySQL connection is closed\n"
    }
   ],
   "source": [
    "try:\n",
    "    connection = mysql.connector.connect(host='localhost',\n",
    "                                            user='root',\n",
    "                                            password='acidbass')\n",
    "    \n",
    "    proyecto = 'proyecto1'\n",
    "\n",
    "    mysql_Create_DataBase_Query = (f\"CREATE DATABASE {proyecto};\")\n",
    "\n",
    "    if connection.is_connected():\n",
    "        db_Info = connection.get_server_info()\n",
    "        print('Connected to MySQL Server version ', db_Info)\n",
    "\n",
    "        cursor = connection.cursor()\n",
    "        cursor.execute(mysql_Create_DataBase_Query)\n",
    "        cursor.execute(f'USE {proyecto};')\n",
    "        print(\"You're connected to database: \", proyecto)\n",
    "\n",
    "except mysql.connector.Error as e:\n",
    "    print('Error while connecting to MySQL', e)\n",
    "\n",
    "try:\n",
    "        mysql_Create_Table_Query = \"\"\"CREATE TABLE matriz (unidad VARCHAR(255), num VARCHAR(255),\n",
    "                                    nivel VARCHAR(255), dni VARCHAR(255), nombre VARCHAR(255),\n",
    "                                    terreno FLOAT, ocupada FLOAT, techada FLOAT, comunes FLOAT,\n",
    "                                    moneda VARCHAR(255), valor FLOAT, terrenousd FLOAT,\n",
    "                                    edifusd FLOAT, comercialusd FLOAT, realizausd FLOAT,\n",
    "                                    asegurausd FLOAT, tipocambio FLOAT,fecha DATE);\"\"\"\n",
    "\n",
    "        cursor.execute(mysql_Create_Table_Query)\n",
    "        print('matriz Table created successfully ')\n",
    "\n",
    "except mysql.connector.Error as e:\n",
    "    print('Failed to create table in MySQL: {}'.format(Error), e)\n",
    "\n",
    "finally:\n",
    "    if (connection.is_connected()):\n",
    "        cursor.close()\n",
    "        connection.close()\n",
    "        print('MySQL connection is closed')"
   ]
  },
  {
   "cell_type": "code",
   "execution_count": null,
   "metadata": {},
   "outputs": [],
   "source": []
  },
  {
   "cell_type": "code",
   "execution_count": 8,
   "metadata": {},
   "outputs": [],
   "source": [
    "# Recopilación data de Matriz\n",
    "DataInMatrix = pd.read_excel('Formatos\\DATA.xlsx', sheet_name='MATRIZ')\n",
    "DataInMatrix.fillna(value = 0, inplace = True)\n",
    "#DataInMatrix"
   ]
  },
  {
   "cell_type": "code",
   "execution_count": 9,
   "metadata": {},
   "outputs": [],
   "source": [
    "unidad = DataInMatrix.iloc[:]['Unidad Inmobiliaria']\n",
    "num = DataInMatrix.iloc[:]['No']\n",
    "nivel = DataInMatrix.iloc[:]['Nivel ']\n",
    "aOcupada = DataInMatrix.iloc[:]['Área ocupada (m²)']\n",
    "aTechada = DataInMatrix.iloc[:]['Área techada (m²)']\n",
    "moneda = DataInMatrix.iloc[:]['Moneda']\n",
    "vVenta = DataInMatrix.iloc[:]['Valor de Venta']\n",
    "vista = DataInMatrix.iloc[:]['VISTA']\n",
    "#unidad, num, nivel, aOcupada, aTechada, moneda, vVenta, vista"
   ]
  },
  {
   "cell_type": "code",
   "execution_count": 11,
   "metadata": {},
   "outputs": [],
   "source": [
    "# Recopilación data de cálculo\n",
    "DataInGeneral = pd.read_excel('Formatos\\DATA.xlsx', sheet_name='DATA')\n",
    "# DataInGeneral"
   ]
  },
  {
   "cell_type": "code",
   "execution_count": 12,
   "metadata": {},
   "outputs": [],
   "source": [
    "vut = float(DataInGeneral.iloc[:1]['VUT (USD)'])\n",
    "vrc = float(DataInGeneral.iloc[:1]['VRC (USD)'])\n",
    "tc = float(DataInGeneral.iloc[:1]['TC'])\n",
    "# vut, vrc, tc"
   ]
  },
  {
   "cell_type": "code",
   "execution_count": 14,
   "metadata": {},
   "outputs": [
    {
     "output_type": "execute_result",
     "data": {
      "text/plain": [
       "<bound method Workbook.close of <openpyxl.workbook.workbook.Workbook object at 0x000001EBB64D75B0>>"
      ]
     },
     "metadata": {},
     "execution_count": 14
    }
   ],
   "source": [
    "wbProyecto = openpyxl.load_workbook('Formatos\\DATA PROYECTO.xlsx', read_only=True)\n",
    "sheetProyecto = wbProyecto['Memoria']\n",
    "eFinan = sheetProyecto['D7'].value\n",
    "wbProyecto.close"
   ]
  },
  {
   "cell_type": "code",
   "execution_count": 15,
   "metadata": {},
   "outputs": [],
   "source": [
    "vue = DataInGeneral[['VUE (USD)', 'Tipo', 'Descripción']]\n",
    "vue.rename(index = DataInGeneral.iloc[:]['Clase'], inplace=True)\n",
    "# vue"
   ]
  },
  {
   "cell_type": "code",
   "execution_count": 10,
   "metadata": {
    "tags": []
   },
   "outputs": [
    {
     "output_type": "stream",
     "name": "stdout",
     "text": "Connected to MySQL Server version  5.7.28-log\nYou&#39;re connected to database:  proyecto1\n"
    }
   ],
   "source": [
    "try:\n",
    "    connection = mysql.connector.connect(host='localhost',\n",
    "                                            user='root',\n",
    "                                            password='acidbass')\n",
    "\n",
    "    proyecto = 'proyecto1'\n",
    "\n",
    "    if connection.is_connected():\n",
    "        db_Info = connection.get_server_info()\n",
    "        print('Connected to MySQL Server version ', db_Info)\n",
    "\n",
    "        cursor = connection.cursor()\n",
    "        cursor.execute(f'USE {proyecto};')\n",
    "        print(\"You're connected to database: \", proyecto)\n",
    "\n",
    "except mysql.connector.Error as e:\n",
    "    print('Error while connecting to MySQL', e)"
   ]
  },
  {
   "cell_type": "code",
   "execution_count": 11,
   "metadata": {
    "tags": []
   },
   "outputs": [
    {
     "output_type": "stream",
     "name": "stdout",
     "text": "matriz Table updated with Departamento 101,  successfully \nmatriz Table updated with Departamento 102,  successfully \nmatriz Table updated with Departamento 103,  successfully \nmatriz Table updated with Departamento 104,  successfully \nmatriz Table updated with Departamento 105,  successfully \nmatriz Table updated with Departamento 106,  successfully \nmatriz Table updated with Departamento 107,  successfully \nmatriz Table updated with Departamento 108,  successfully \nmatriz Table updated with Departamento 201,  successfully \nmatriz Table updated with Departamento 202,  successfully \nmatriz Table updated with Departamento 203,  successfully \nmatriz Table updated with Departamento 204,  successfully \nmatriz Table updated with Departamento 205,  successfully \nmatriz Table updated with Departamento 206,  successfully \nmatriz Table updated with Departamento 207,  successfully \nmatriz Table updated with Departamento 208,  successfully \nmatriz Table updated with Departamento 301,  successfully \nmatriz Table updated with Departamento 302,  successfully \nmatriz Table updated with Departamento 303,  successfully \nmatriz Table updated with Departamento 304,  successfully \nmatriz Table updated with Departamento 305,  successfully \nmatriz Table updated with Departamento 306,  successfully \nmatriz Table updated with Departamento 307,  successfully \nmatriz Table updated with Departamento 308,  successfully \nmatriz Table updated with Departamento 401,  successfully \nmatriz Table updated with Departamento 402,  successfully \nmatriz Table updated with Departamento 403,  successfully \nmatriz Table updated with Departamento 404,  successfully \nmatriz Table updated with Departamento 405,  successfully \nmatriz Table updated with Departamento 406,  successfully \nmatriz Table updated with Departamento 407,  successfully \nmatriz Table updated with Departamento 408,  successfully \nmatriz Table updated with Departamento 501,  successfully \nmatriz Table updated with Departamento 502,  successfully \nmatriz Table updated with Departamento 503,  successfully \nmatriz Table updated with Departamento 504,  successfully \nmatriz Table updated with Departamento 505,  successfully \nmatriz Table updated with Departamento 506,  successfully \nmatriz Table updated with Departamento 507,  successfully \nmatriz Table updated with Departamento 508,  successfully \nmatriz Table updated with Departamento 601,  successfully \nmatriz Table updated with Departamento 602,  successfully \nmatriz Table updated with Departamento 603,  successfully \nmatriz Table updated with Departamento 604,  successfully \nmatriz Table updated with Departamento 605,  successfully \nmatriz Table updated with Departamento 606,  successfully \nmatriz Table updated with Departamento 607,  successfully \nmatriz Table updated with Departamento 608,  successfully \nmatriz Table updated with Departamento 701,  successfully \nmatriz Table updated with Departamento 702,  successfully \nmatriz Table updated with Departamento 703,  successfully \nmatriz Table updated with Departamento 704,  successfully \nmatriz Table updated with Departamento 705,  successfully \nmatriz Table updated with Departamento 706,  successfully \nmatriz Table updated with Departamento 707,  successfully \nmatriz Table updated with Departamento 708,  successfully \nmatriz Table updated with Departamento 801,  successfully \nmatriz Table updated with Departamento 802,  successfully \nmatriz Table updated with Departamento 803,  successfully \nmatriz Table updated with Departamento 804,  successfully \nmatriz Table updated with Departamento 805,  successfully \nmatriz Table updated with Departamento 806,  successfully \nmatriz Table updated with Departamento 807,  successfully \nmatriz Table updated with Departamento 808,  successfully \nmatriz Table updated with Departamento 901,  successfully \nmatriz Table updated with Departamento 902,  successfully \nmatriz Table updated with Departamento 903,  successfully \nmatriz Table updated with Departamento 904,  successfully \nmatriz Table updated with Departamento 905,  successfully \nmatriz Table updated with Departamento 906,  successfully \nmatriz Table updated with Departamento 907,  successfully \nmatriz Table updated with Departamento 908,  successfully \nmatriz Table updated with Departamento 1001,  successfully \nmatriz Table updated with Departamento 1002,  successfully \nmatriz Table updated with Departamento 1003,  successfully \nmatriz Table updated with Departamento 1004,  successfully \nmatriz Table updated with Departamento 1005,  successfully \nmatriz Table updated with Departamento 1006,  successfully \nmatriz Table updated with Departamento 1007,  successfully \nmatriz Table updated with Departamento 1008,  successfully \nmatriz Table updated with Departamento 1101,  successfully \nmatriz Table updated with Departamento 1102,  successfully \nmatriz Table updated with Departamento 1103,  successfully \nmatriz Table updated with Departamento 1104,  successfully \nmatriz Table updated with Departamento 1105,  successfully \nmatriz Table updated with Departamento 1106,  successfully \nmatriz Table updated with Departamento 1107,  successfully \nmatriz Table updated with Departamento 1108,  successfully \nmatriz Table updated with Departamento 1201,  successfully \nmatriz Table updated with Departamento 1202,  successfully \nmatriz Table updated with Departamento 1203,  successfully \nmatriz Table updated with Departamento 1204,  successfully \nmatriz Table updated with Departamento 1205,  successfully \nmatriz Table updated with Departamento 1206,  successfully \nmatriz Table updated with Departamento 1207,  successfully \nmatriz Table updated with Departamento 1208,  successfully \nmatriz Table updated with Departamento 1301,  successfully \nmatriz Table updated with Departamento 1302,  successfully \nmatriz Table updated with Departamento 1303,  successfully \nmatriz Table updated with Departamento 1304,  successfully \nmatriz Table updated with Departamento 1305,  successfully \nmatriz Table updated with Departamento 1306,  successfully \nmatriz Table updated with Departamento 1307,  successfully \nmatriz Table updated with Departamento 1308,  successfully \nmatriz Table updated with Departamento 1401,  successfully \nmatriz Table updated with Departamento 1402,  successfully \nmatriz Table updated with Departamento 1403,  successfully \nmatriz Table updated with Departamento 1404,  successfully \nmatriz Table updated with Departamento 1405,  successfully \nmatriz Table updated with Departamento 1406,  successfully \nmatriz Table updated with Departamento 1407,  successfully \nmatriz Table updated with Departamento 1408,  successfully \nmatriz Table updated with Departamento 1501,  successfully \nmatriz Table updated with Departamento 1502,  successfully \nmatriz Table updated with Departamento 1503,  successfully \nmatriz Table updated with Departamento 1504,  successfully \nmatriz Table updated with Departamento 1505,  successfully \nmatriz Table updated with Departamento 1506,  successfully \nmatriz Table updated with Departamento 1507,  successfully \nmatriz Table updated with Departamento 1508,  successfully \nmatriz Table updated with Departamento 1601,  successfully \nmatriz Table updated with Departamento 1602,  successfully \nmatriz Table updated with Departamento 1603,  successfully \nmatriz Table updated with Departamento 1604,  successfully \nmatriz Table updated with Departamento 1605,  successfully \nmatriz Table updated with Departamento 1606,  successfully \nmatriz Table updated with Departamento 1607,  successfully \nmatriz Table updated with Departamento 1608,  successfully \nmatriz Table updated with Departamento 1701,  successfully \nmatriz Table updated with Departamento 1702,  successfully \nmatriz Table updated with Departamento 1703,  successfully \nmatriz Table updated with Departamento 1704,  successfully \nmatriz Table updated with Departamento 1705,  successfully \nmatriz Table updated with Departamento 1706,  successfully \nmatriz Table updated with Departamento 1707,  successfully \nmatriz Table updated with Departamento 1708,  successfully \nmatriz Table updated with Departamento 1801,  successfully \nmatriz Table updated with Departamento 1802,  successfully \nmatriz Table updated with Departamento 1803,  successfully \nmatriz Table updated with Departamento 1804,  successfully \nmatriz Table updated with Departamento 1805,  successfully \nmatriz Table updated with Departamento 1806,  successfully \nmatriz Table updated with Departamento 1807,  successfully \nmatriz Table updated with Departamento 1808,  successfully \nmatriz Table updated with Departamento 1901,  successfully \nmatriz Table updated with Departamento 1902,  successfully \nmatriz Table updated with Departamento 1903,  successfully \nmatriz Table updated with Departamento 1904,  successfully \nmatriz Table updated with Departamento 1905,  successfully \nmatriz Table updated with Departamento 1906,  successfully \nmatriz Table updated with Departamento 1907,  successfully \nmatriz Table updated with Departamento 1908,  successfully \nmatriz Table updated with Departamento 2001,  successfully \nmatriz Table updated with Departamento 2002,  successfully \nmatriz Table updated with Departamento 2003,  successfully \nmatriz Table updated with Departamento 2004,  successfully \nmatriz Table updated with Departamento 2005,  successfully \nmatriz Table updated with Departamento 2006,  successfully \nmatriz Table updated with Departamento 2007,  successfully \nmatriz Table updated with Departamento 2008,  successfully \nmatriz Table updated with Estacionamiento 118,  successfully \nmatriz Table updated with Estacionamiento 120,  successfully \nmatriz Table updated with Estacionamiento 125,  successfully \nmatriz Table updated with Estacionamiento 126,  successfully \nmatriz Table updated with Estacionamiento 181,  successfully \nmatriz Table updated with Estacionamiento 185,  successfully \nmatriz Table updated with Estacionamiento 245,  successfully \nmatriz Table updated with Estacionamiento 246,  successfully \nmatriz Table updated with Estacionamiento 247,  successfully \nmatriz Table updated with Estacionamiento 248,  successfully \nmatriz Table updated with Estacionamiento 399,  successfully \nmatriz Table updated with Estacionamiento 573,  successfully \nmatriz Table updated with Estacionamiento 574,  successfully \nmatriz Table updated with Estacionamiento 641,  successfully \nmatriz Table updated with Estacionamiento 642,  successfully \nmatriz Table updated with Estacionamiento 643,  successfully \nmatriz Table updated with Estacionamiento 644,  successfully \nmatriz Table updated with Estacionamiento 646,  successfully \nmatriz Table updated with Estacionamiento 648,  successfully \nmatriz Table updated with Estacionamiento 649,  successfully \nmatriz Table updated with Estacionamiento 866,  successfully \nmatriz Table updated with Estacionamiento 869,  successfully \nmatriz Table updated with Estacionamiento 874,  successfully \nmatriz Table updated with Estacionamiento 1047,  successfully \nmatriz Table updated with Estacionamiento 1049,  successfully \nmatriz Table updated with Estacionamiento 1050,  successfully \nmatriz Table updated with Estacionamiento 1051,  successfully \nmatriz Table updated with Estacionamiento 1053,  successfully \nmatriz Table updated with Estacionamiento 1054,  successfully \nmatriz Table updated with Estacionamiento 1055,  successfully \nmatriz Table updated with Estacionamiento 1056,  successfully \nmatriz Table updated with Estacionamiento 1057,  successfully \nmatriz Table updated with Estacionamiento 1058,  successfully \nmatriz Table updated with Estacionamiento 1059,  successfully \nmatriz Table updated with Estacionamiento 1060,  successfully \nmatriz Table updated with Estacionamiento 1061,  successfully \nmatriz Table updated with Estacionamiento 1062,  successfully \nmatriz Table updated with Estacionamiento 1063,  successfully \nmatriz Table updated with Estacionamiento 1234,  successfully \nmatriz Table updated with Estacionamiento 1235,  successfully \nmatriz Table updated with Estacionamiento 1236,  successfully \nmatriz Table updated with Estacionamiento 1237,  successfully \nmatriz Table updated with Estacionamiento 1238,  successfully \nmatriz Table updated with Estacionamiento 1239,  successfully \nmatriz Table updated with Estacionamiento 1403,  successfully \nmatriz Table updated with Estacionamiento 1453,  successfully \nmatriz Table updated with Estacionamiento 1464,  successfully \nmatriz Table updated with Estacionamiento 1465,  successfully \nmatriz Table updated with Estacionamiento 1468,  successfully \nmatriz Table updated with Estacionamiento 1469,  successfully \nmatriz Table updated with Estacionamiento 1470,  successfully \nmatriz Table updated with Estacionamiento 1471,  successfully \nmatriz Table updated with Estacionamiento 1472,  successfully \nmatriz Table updated with Estacionamiento 1473,  successfully \nmatriz Table updated with Depósito 1,  successfully \nmatriz Table updated with Depósito 2,  successfully \nmatriz Table updated with Depósito 3,  successfully \nmatriz Table updated with Depósito 4,  successfully \nmatriz Table updated with Depósito 5,  successfully \nmatriz Table updated with Depósito 6,  successfully \nmatriz Table updated with Depósito 7,  successfully \nmatriz Table updated with Depósito 8,  successfully \nmatriz Table updated with Depósito 9,  successfully \nmatriz Table updated with Depósito 10,  successfully \nmatriz Table updated with Depósito 11,  successfully \nmatriz Table updated with Depósito 13,  successfully \n"
    }
   ],
   "source": [
    "for x in range(0, len(DataInMatrix), 1):\n",
    "\n",
    "    try:\n",
    "\n",
    "        mysql_Fill_Table_Query = (\"\"\"INSERT INTO matriz (unidad, num, nivel, dni, nombre,\n",
    "                                    terreno, ocupada, techada, comunes, moneda, valor, \n",
    "                                    terrenousd, edifusd, comercialusd, realizausd,\n",
    "                                    asegurausd, tipocambio, fecha)\"\"\"\n",
    "                                    \"\"\"VALUES (%s, %s, %s, %s, %s, %s, %s, %s, %s, %s, %s, \n",
    "                                    %s, %s, %s, %s, %s, %s, %s);\"\"\"\n",
    "                                    )\n",
    "\n",
    "        aTerreno = round(float(aOcupada[x]) / 20 * 1.4, 2)\n",
    "        aComunes = round(float(aTechada[x]) * 0.15, 2)\n",
    "        vTerrenoUsd = round(aTerreno * vut / 100, 0) * 100\n",
    "\n",
    "        if unidad[x] == 'Departamento':\n",
    "            vComercialUsd = round( \n",
    "                                    float(vue.loc[vista[x]]['VUE (USD)']) * (float(aTechada[x]) +\n",
    "                                    ((float(aOcupada[x]) - float(aTechada[x])) * 0.3)) / 100,\n",
    "                                    0\n",
    "                                ) * 100\n",
    "        else:\n",
    "            vComercialUsd = vue.loc[vista[x]]['VUE (USD)']\n",
    "\n",
    "        vEdificaUsd = vComercialUsd - vTerrenoUsd\n",
    "        vRealizaUsd = round(vComercialUsd * 0.8 / 100, 0) *100\n",
    "\n",
    "        if eFinan == 'BANCO INTERNACIONAL DEL PERÚ S.A.A. - INTERBANK':\n",
    "            iAseguraUsd = vComercialUsd\n",
    "        else:\n",
    "            iAseguraUsd = round(\n",
    "                                float(aTechada[x]) * vrc * 1.15 / 100,\n",
    "                                0\n",
    "                            ) * 100\n",
    "        \n",
    "        datos = (unidad[x], str(num[x]), str(nivel[x]), None, None, float(aTerreno),\n",
    "                float(aOcupada[x]), float(aTechada[x]), float(aComunes), moneda[x], \n",
    "                float(vVenta[x]), float(vTerrenoUsd), float(vEdificaUsd), float(vComercialUsd),\n",
    "                float(vRealizaUsd), float(iAseguraUsd), float(tc), None)\n",
    "\n",
    "        cursor.execute(mysql_Fill_Table_Query, datos)\n",
    "        connection.commit() # Important so the query us executed\n",
    "        print(f'matriz Table updated with {unidad[x]} {num[x]},  successfully ')\n",
    "\n",
    "    except mysql.connector.Error as e:\n",
    "        print('Failed to update table in MySQL: {}'.format(Error), e)\n",
    "        connection.rollback()\n"
   ]
  },
  {
   "cell_type": "code",
   "execution_count": 12,
   "metadata": {
    "tags": []
   },
   "outputs": [
    {
     "output_type": "stream",
     "name": "stdout",
     "text": "MySQL connection is closed\n"
    }
   ],
   "source": [
    "if (connection.is_connected()):\n",
    "    cursor.close()\n",
    "    connection.close()\n",
    "    print('MySQL connection is closed')"
   ]
  },
  {
   "cell_type": "code",
   "execution_count": 13,
   "metadata": {
    "tags": []
   },
   "outputs": [
    {
     "output_type": "stream",
     "name": "stdout",
     "text": "Connected to MySQL Server version  5.7.28-log\nYou&#39;re connected to database:  proyecto1\nMySQL connection is closed\n"
    }
   ],
   "source": [
    "try:\n",
    "    connection = mysql.connector.connect(host='localhost',\n",
    "                                            user='root',\n",
    "                                            password='acidbass')\n",
    "\n",
    "    proyecto = 'proyecto1'\n",
    "\n",
    "    if connection.is_connected():\n",
    "        db_Info = connection.get_server_info()\n",
    "        print('Connected to MySQL Server version ', db_Info)\n",
    "\n",
    "        cursor = connection.cursor()\n",
    "        cursor.execute(f'USE {proyecto};')\n",
    "        print(\"You're connected to database: \", proyecto)\n",
    "\n",
    "        DataOutMatrix = pd.read_sql(F'SELECT * FROM matriz', connection)\n",
    "\n",
    "except mysql.connector.Error as e:\n",
    "    print('Error while connecting to MySQL', e)\n",
    "\n",
    "finally:\n",
    "    if (connection.is_connected()):\n",
    "        cursor.close()\n",
    "        connection.close()\n",
    "        print('MySQL connection is closed')\n",
    "\n",
    "# DataOutMatrix"
   ]
  },
  {
   "cell_type": "code",
   "execution_count": 14,
   "metadata": {},
   "outputs": [],
   "source": [
    "unidad = DataOutMatrix.iloc[:]['unidad']\n",
    "num = DataOutMatrix.iloc[:]['num']\n",
    "nivel = DataOutMatrix.iloc[:]['nivel']\n",
    "dni = DataOutMatrix.iloc[:]['dni']\n",
    "nombre = DataOutMatrix.iloc[:]['nombre']\n",
    "aTerreno = DataOutMatrix.iloc[:]['terreno']\n",
    "aOcupada = DataOutMatrix.iloc[:]['ocupada']\n",
    "aTechada = DataOutMatrix.iloc[:]['techada']\n",
    "aComunes = DataOutMatrix.iloc[:]['comunes']\n",
    "moneda = DataOutMatrix.iloc[:]['moneda']\n",
    "vVenta = DataOutMatrix.iloc[:]['valor']\n",
    "vTerrenoUsd = DataOutMatrix.iloc[:]['terrenousd']\n",
    "vEdificaUsd = DataOutMatrix.iloc[:]['edifusd']\n",
    "vComercialUsd = DataOutMatrix.iloc[:]['comercialusd']\n",
    "vRealizaUsd = DataOutMatrix.iloc[:]['realizausd']\n",
    "vAseguraUsd = DataOutMatrix.iloc[:]['asegurausd']\n",
    "tc = DataOutMatrix.iloc[:]['tipocambio']\n",
    "fecha = DataOutMatrix.iloc[:]['fecha']\n",
    "# unidad, num, nivel, dni, nombre, aTerreno,aOcupada, aTechada, aComunes, moneda, vVenta, vTerrenoUsd, vEdificaUsd, vComercialUsd, vRealizaUsd, vAseguraUsd, tc, fecha"
   ]
  },
  {
   "cell_type": "code",
   "execution_count": 15,
   "metadata": {
    "tags": []
   },
   "outputs": [
    {
     "output_type": "execute_result",
     "data": {
      "text/plain": "&lt;bound method Workbook.close of &lt;openpyxl.workbook.workbook.Workbook object at 0x000002A045CD7F70&gt;&gt;"
     },
     "metadata": {},
     "execution_count": 15
    }
   ],
   "source": [
    "wbProyecto = openpyxl.load_workbook('Formatos\\DATA PROYECTO.xlsx', read_only=True)\n",
    "sheetProyecto = wbProyecto['Portada']\n",
    "wbMatrix = openpyxl.load_workbook('Formatos\\MATRIZ TASACIONES.xlsx', read_only=False)\n",
    "sheetMatrix = wbMatrix['MATRIZ']\n",
    "\n",
    "for x in range(0, len(DataOutMatrix), 1):\n",
    "    vTerrenoSol = round(float(vTerrenoUsd[x]) * float(tc[x]) / 100, 0) * 100\n",
    "    vEdificaSol = round(float(vEdificaUsd[x]) * float(tc[x]) / 100, 0) * 100\n",
    "    vComercialSol = round(float(vComercialUsd[x]) * float(tc[x]) / 100, 0) * 100\n",
    "    vRealizaSol = round(float(vRealizaUsd[x]) * float(tc[x]) / 100, 0) * 100\n",
    "    vAseguraSol = round(float(vAseguraUsd[x]) * float(tc[x]) / 100, 0) * 100\n",
    "\n",
    "    rowData = [unidad[x], num[x], nivel[x], dni[x], nombre[x], aTerreno[x], aOcupada[x],\n",
    "                aTechada[x], aComunes[x], moneda[x], vVenta[x], aTerreno[x], aOcupada[x], \n",
    "                aTechada[x], aComunes[x], vTerrenoUsd[x], vEdificaUsd[x], vComercialUsd[x],\n",
    "                vRealizaUsd[x], vAseguraUsd[x], tc[x], vTerrenoSol, vEdificaSol, vComercialSol,\n",
    "                vRealizaSol, vAseguraSol, fecha[x]]\n",
    "\n",
    "    sheetMatrix.insert_rows(x+13)\n",
    "\n",
    "    for y in range(0, len(rowData), 1):\n",
    "        sheetMatrix.cell(row=x+12, column=y+1).value = rowData[y]\n",
    "        \n",
    "        if sheetMatrix.cell(row=x+12, column=y+1).has_style:\n",
    "            sheetMatrix.cell(row=x+13, column=y+1)._style = sheetMatrix.cell(row=x+12, column=y+1)._style\n",
    "        \n",
    "        if not fecha[x] == None:\n",
    "            sheetMatrix.cell(row=x+12, column=y+1).font = Font(bold=True)\n",
    "            sheetMatrix.cell(row=x+12, column=y+1).fill = PatternFill(\"solid\", fgColor=\"DDEBF7\")\n",
    "\n",
    "sheetMatrix[f'F{x+14}'] = f'=SUM(F12:F{x+13})'\n",
    "sheetMatrix[f'G{x+14}'] = f'=SUM(G12:G{x+13})'\n",
    "sheetMatrix[f'H{x+14}'] = f'=SUM(H12:H{x+13})'\n",
    "sheetMatrix[f'I{x+14}'] = f'=SUM(I12:I{x+13})'\n",
    "sheetMatrix['D7'] = f'=MAX(AA12:AA{x+13})'\n",
    "sheetMatrix['D8'] = time.strftime(\"%d/%m/%Y\", time.gmtime(time.time()))\n",
    "\n",
    "\n",
    "sheetMatrix['D3'].value = sheetProyecto['B34'].value\n",
    "sheetMatrix['D5'].value = sheetProyecto['B33'].value\n",
    "\n",
    "sheetProyecto = wbProyecto['Memoria']\n",
    "sheetMatrix['D6'].value = sheetProyecto['D31'].value\n",
    "\n",
    "wbMatrix.save('C:\\\\Users\\\\pollo\\\\Desktop\\\\Matriz.xlsx')\n",
    "wbMatrix.close\n",
    "wbProyecto.close"
   ]
  },
  {
   "cell_type": "code",
   "execution_count": 2,
   "metadata": {},
   "outputs": [],
   "source": [
    "#CREAR INFORME DE TASACIÓN"
   ]
  },
  {
   "cell_type": "code",
   "execution_count": 2,
   "metadata": {},
   "outputs": [
    {
     "output_type": "stream",
     "name": "stdout",
     "text": [
      "Connected to MySQL Server version  5.7.28-log\n",
      "You're connected to database:  proyecto1\n",
      "MySQL connection is closed\n"
     ]
    }
   ],
   "source": [
    "try:\n",
    "    connection = mysql.connector.connect(host='localhost',\n",
    "                                            user='root',\n",
    "                                            password='acidbass')\n",
    "\n",
    "    proyecto = 'proyecto1'\n",
    "\n",
    "    if connection.is_connected():\n",
    "        db_Info = connection.get_server_info()\n",
    "        print('Connected to MySQL Server version ', db_Info)\n",
    "\n",
    "        cursor = connection.cursor()\n",
    "        cursor.execute(f'USE {proyecto};')\n",
    "        print(\"You're connected to database: \", proyecto)\n",
    "\n",
    "        DataOutMatrix = pd.read_sql(F'SELECT * FROM matriz', connection)\n",
    "\n",
    "except mysql.connector.Error as e:\n",
    "    print('Error while connecting to MySQL', e)\n",
    "\n",
    "finally:\n",
    "    if (connection.is_connected()):\n",
    "        cursor.close()\n",
    "        connection.close()\n",
    "        print('MySQL connection is closed')"
   ]
  },
  {
   "cell_type": "code",
   "execution_count": 3,
   "metadata": {},
   "outputs": [
    {
     "output_type": "execute_result",
     "data": {
      "text/plain": [
       "              unidad   num nivel   dni nombre  terreno  ocupada  techada  \\\n",
       "1       Departamento   102   1.0  None   None     4.38    62.50    62.50   \n",
       "183  Estacionamiento  1047   0.0  None   None     0.84    12.00    12.00   \n",
       "224         Depósito    11  -3.0  None   None     0.44     6.24     6.24   \n",
       "\n",
       "     comunes moneda  ...  edifusd  comercialusd  realizausd  asegurausd  \\\n",
       "1       9.38  Soles  ...  65700.0       68800.0     55000.0     68800.0   \n",
       "183     1.80  Soles  ...   8400.0        9000.0      7200.0      9000.0   \n",
       "224     0.94  Soles  ...   3700.0        4000.0      3200.0      4000.0   \n",
       "\n",
       "     tipocambio  fecha      clase  vueusd     tipo  \\\n",
       "1           3.5   None  Dpto 1150  1100.0  Tríplex   \n",
       "183         3.5   None  Estac 28k  9000.0  Techado   \n",
       "224         3.5   None        Dep  4000.0        -   \n",
       "\n",
       "                                           descripción  \n",
       "1    Ingreso, sala comedor, cocina, lavanderia, hal...  \n",
       "183                                    Estacionamiento  \n",
       "224                                           Depósito  \n",
       "\n",
       "[3 rows x 22 columns]"
      ],
      "text/html": "<div>\n<style scoped>\n    .dataframe tbody tr th:only-of-type {\n        vertical-align: middle;\n    }\n\n    .dataframe tbody tr th {\n        vertical-align: top;\n    }\n\n    .dataframe thead th {\n        text-align: right;\n    }\n</style>\n<table border=\"1\" class=\"dataframe\">\n  <thead>\n    <tr style=\"text-align: right;\">\n      <th></th>\n      <th>unidad</th>\n      <th>num</th>\n      <th>nivel</th>\n      <th>dni</th>\n      <th>nombre</th>\n      <th>terreno</th>\n      <th>ocupada</th>\n      <th>techada</th>\n      <th>comunes</th>\n      <th>moneda</th>\n      <th>...</th>\n      <th>edifusd</th>\n      <th>comercialusd</th>\n      <th>realizausd</th>\n      <th>asegurausd</th>\n      <th>tipocambio</th>\n      <th>fecha</th>\n      <th>clase</th>\n      <th>vueusd</th>\n      <th>tipo</th>\n      <th>descripción</th>\n    </tr>\n  </thead>\n  <tbody>\n    <tr>\n      <th>1</th>\n      <td>Departamento</td>\n      <td>102</td>\n      <td>1.0</td>\n      <td>None</td>\n      <td>None</td>\n      <td>4.38</td>\n      <td>62.50</td>\n      <td>62.50</td>\n      <td>9.38</td>\n      <td>Soles</td>\n      <td>...</td>\n      <td>65700.0</td>\n      <td>68800.0</td>\n      <td>55000.0</td>\n      <td>68800.0</td>\n      <td>3.5</td>\n      <td>None</td>\n      <td>Dpto 1150</td>\n      <td>1100.0</td>\n      <td>Tríplex</td>\n      <td>Ingreso, sala comedor, cocina, lavanderia, hal...</td>\n    </tr>\n    <tr>\n      <th>183</th>\n      <td>Estacionamiento</td>\n      <td>1047</td>\n      <td>0.0</td>\n      <td>None</td>\n      <td>None</td>\n      <td>0.84</td>\n      <td>12.00</td>\n      <td>12.00</td>\n      <td>1.80</td>\n      <td>Soles</td>\n      <td>...</td>\n      <td>8400.0</td>\n      <td>9000.0</td>\n      <td>7200.0</td>\n      <td>9000.0</td>\n      <td>3.5</td>\n      <td>None</td>\n      <td>Estac 28k</td>\n      <td>9000.0</td>\n      <td>Techado</td>\n      <td>Estacionamiento</td>\n    </tr>\n    <tr>\n      <th>224</th>\n      <td>Depósito</td>\n      <td>11</td>\n      <td>-3.0</td>\n      <td>None</td>\n      <td>None</td>\n      <td>0.44</td>\n      <td>6.24</td>\n      <td>6.24</td>\n      <td>0.94</td>\n      <td>Soles</td>\n      <td>...</td>\n      <td>3700.0</td>\n      <td>4000.0</td>\n      <td>3200.0</td>\n      <td>4000.0</td>\n      <td>3.5</td>\n      <td>None</td>\n      <td>Dep</td>\n      <td>4000.0</td>\n      <td>-</td>\n      <td>Depósito</td>\n    </tr>\n  </tbody>\n</table>\n<p>3 rows × 22 columns</p>\n</div>"
     },
     "metadata": {},
     "execution_count": 3
    }
   ],
   "source": [
    "#Según selección toma datos de matriz y muestra en pantalla de usuario con opción de edición\n",
    "# selected for test = 1, 183, 224\n",
    "key = {0:1, 1:183, 2:224}\n",
    "tasacionNew = pd.DataFrame(columns= DataOutMatrix.columns)\n",
    "for x in key:\n",
    "    tasacionNew = tasacionNew.append(DataOutMatrix.loc[key[x]])\n",
    "tasacionNew"
   ]
  },
  {
   "cell_type": "code",
   "execution_count": 4,
   "metadata": {},
   "outputs": [],
   "source": [
    "unidad = tasacionNew.iloc[:]['unidad']\n",
    "num = tasacionNew.iloc[:]['num']\n",
    "nivel = tasacionNew.iloc[:]['nivel']\n",
    "aTerreno = tasacionNew['terreno']\n",
    "aTechada = tasacionNew['techada']\n",
    "aOcupada = tasacionNew['ocupada']\n",
    "descrip = tasacionNew['descripción']\n",
    "vComercialUsd = tasacionNew['comercialusd']"
   ]
  },
  {
   "cell_type": "code",
   "execution_count": 5,
   "metadata": {},
   "outputs": [],
   "source": [
    "#Selección por parte del Usuario\n",
    "codigoTasa = '256'\n",
    "cliente = 'Pepito Mendienta - DNI: 45768939'\n",
    "fechaInspecc = '20/10/2020'\n",
    "tcTasa = float('3.6')\n",
    "# unidadSelected[0]"
   ]
  },
  {
   "cell_type": "code",
   "execution_count": 6,
   "metadata": {},
   "outputs": [
    {
     "output_type": "execute_result",
     "data": {
      "text/plain": [
       "<bound method Workbook.close of <openpyxl.workbook.workbook.Workbook object at 0x00000206CA7395B0>>"
      ]
     },
     "metadata": {},
     "execution_count": 6
    }
   ],
   "source": [
    "wbProyecto = openpyxl.load_workbook('Formatos\\PMF-Tasación.xlsx', read_only=True)\n",
    "sheetInforme = wbProyecto['Memoria']\n",
    "banco = sheetInforme['D7'].value\n",
    "wbProyecto.close"
   ]
  },
  {
   "cell_type": "code",
   "execution_count": 7,
   "metadata": {},
   "outputs": [],
   "source": [
    "if banco == 'BANCO INTERNACIONAL DEL PERÚ S.A.A. - INTERBANK':\n",
    "    banco = 'IBK'\n",
    "elif banco == 'BANCO PINCHINCHA':\n",
    "    banco = 'BP'\n",
    "elif banco == 'SCOTIABANK PERÚ S.A.A.':\n",
    "    banco = 'SCB'"
   ]
  },
  {
   "cell_type": "code",
   "execution_count": 8,
   "metadata": {},
   "outputs": [
    {
     "output_type": "execute_result",
     "data": {
      "text/plain": [
       "'Informe de Valuación N° 256-IBK-2020'"
      ]
     },
     "metadata": {},
     "execution_count": 8
    }
   ],
   "source": [
    "codigoTasa = f'Informe de Valuación N° {codigoTasa}-{banco}-{str(date.today().strftime(\"%Y\"))}'\n",
    "codigoTasa"
   ]
  },
  {
   "cell_type": "code",
   "execution_count": 9,
   "metadata": {},
   "outputs": [
    {
     "output_type": "execute_result",
     "data": {
      "text/plain": [
       "'Departamento, Estacionamiento, Depósito'"
      ]
     },
     "metadata": {},
     "execution_count": 9
    }
   ],
   "source": [
    "tipo = ''\n",
    "for x in range(0, len(key), 1):\n",
    "    if x == 0:\n",
    "        tipo = unidad[key[x]]\n",
    "    else:\n",
    "        if not unidad[key[x]] == unidad[key[x-1]]:\n",
    "            tipo = f\"{tipo}, {unidad[key[x]]}\"\n",
    "tipo"
   ]
  },
  {
   "cell_type": "code",
   "execution_count": 10,
   "metadata": {},
   "outputs": [],
   "source": [
    "DataInGeneral = pd.read_excel('Formatos\\DATA.xlsx', sheet_name='DATA')\n",
    "\n",
    "vut = float(DataInGeneral.iloc[:1]['VUT (USD)']) #Unit terrain value\n",
    "vrc = float(DataInGeneral.iloc[:1]['VRC (USD)']) #Unit reconstruction value"
   ]
  },
  {
   "cell_type": "code",
   "execution_count": 35,
   "metadata": {},
   "outputs": [],
   "source": [
    "wbInforme = openpyxl.load_workbook('Formatos\\Informe.xlsx', read_only=False)\n",
    "sheetInforme = wbInforme['Informe']"
   ]
  },
  {
   "cell_type": "code",
   "execution_count": 30,
   "metadata": {},
   "outputs": [],
   "source": [
    "filasInforme = [376, 350, 334, 316, 297, 210, 199, 180, 164, 148, 110, 65, 51]"
   ]
  },
  {
   "cell_type": "code",
   "execution_count": 31,
   "metadata": {},
   "outputs": [],
   "source": [
    "sheetInforme['B4'].value = codigoTasa\n",
    "sheetInforme['I7'].value = cliente\n",
    "sheetInforme['I12'].value = fechaInspecc\n",
    "sheetInforme['E67'].value = tcTasa\n",
    "sheetInforme['J74'].value = tipo"
   ]
  },
  {
   "cell_type": "code",
   "execution_count": 32,
   "metadata": {},
   "outputs": [],
   "source": [
    "y = 0\n",
    "for x in range(0, len(key), 1):\n",
    "    sheetInforme.cell(row=x + 138, column=4).value = f\"{unidad[key[x]]} No {num[key[x]]}\"\n",
    "    sheetInforme.cell(row=x + 138, column=16).value = aTerreno[key[x]]\n",
    "    sheetInforme.cell(row=x + 154, column=11).value = aTechada[key[x]]\n",
    "    sheetInforme.cell(row=x + 154, column=16).value = aOcupada[key[x]]\n",
    "    sheetInforme.cell(row=x + 189, column=4).value = f\"Es materia de tasación el {unidad[key[x]]} No {num[key[x]]}, ubicado en el nivel {nivel[key[x]]}\"\n",
    "    sheetInforme.cell(row=x + 200, column=13).value = descrip[key[x]]\n",
    "    sheetInforme.cell(row=x + 287, column=14).value = vut\n",
    "    sheetInforme.cell(row=x + 324, column=17).value = vrc\n",
    "    sheetInforme.cell(row=x + 340, column=19).value = vComercialUsd[key[x]]\n",
    "    y = y + 1"
   ]
  },
  {
   "cell_type": "code",
   "execution_count": 33,
   "metadata": {},
   "outputs": [],
   "source": [
    "for x in filasInforme:\n",
    "    for n in range(0, 11-y, 1):\n",
    "        sheetInforme.row_dimensions[x-n].hidden = True"
   ]
  },
  {
   "cell_type": "code",
   "execution_count": 34,
   "metadata": {},
   "outputs": [
    {
     "output_type": "execute_result",
     "data": {
      "text/plain": [
       "<bound method Workbook.close of <openpyxl.workbook.workbook.Workbook object at 0x00000206CB6DDC10>>"
      ]
     },
     "metadata": {},
     "execution_count": 34
    }
   ],
   "source": [
    "wbInforme.save('Tasación.xlsx')\n",
    "wbInforme.close"
   ]
  }
 ]
}